{
 "cells": [
  {
   "cell_type": "code",
   "execution_count": 6,
   "metadata": {
    "colab": {
     "base_uri": "https://localhost:8080/",
     "height": 156
    },
    "colab_type": "code",
    "executionInfo": {
     "elapsed": 3636,
     "status": "ok",
     "timestamp": 1586894871726,
     "user": {
      "displayName": "Sanjit Neelam",
      "photoUrl": "",
      "userId": "11343435696768886338"
     },
     "user_tz": -60
    },
    "id": "4hNbIzQ8vxPM",
    "outputId": "cb72f9d2-4066-4cc2-da57-acf0b0efab65"
   },
   "outputs": [
    {
     "name": "stdout",
     "output_type": "stream",
     "text": [
      "Requirement already satisfied: pandas_ta in /usr/local/lib/python3.6/dist-packages (0.1.36b0)\n",
      "Requirement already satisfied: pandas in /usr/local/lib/python3.6/dist-packages (from pandas_ta) (1.0.3)\n",
      "Requirement already satisfied: numpy>=1.13.3 in /usr/local/lib/python3.6/dist-packages (from pandas->pandas_ta) (1.18.2)\n",
      "Requirement already satisfied: pytz>=2017.2 in /usr/local/lib/python3.6/dist-packages (from pandas->pandas_ta) (2018.9)\n",
      "Requirement already satisfied: python-dateutil>=2.6.1 in /usr/local/lib/python3.6/dist-packages (from pandas->pandas_ta) (2.8.1)\n",
      "Requirement already satisfied: six>=1.5 in /usr/local/lib/python3.6/dist-packages (from python-dateutil>=2.6.1->pandas->pandas_ta) (1.12.0)\n",
      "Drive already mounted at /content/drive; to attempt to forcibly remount, call drive.mount(\"/content/drive\", force_remount=True).\n"
     ]
    }
   ],
   "source": [
    "'''\n",
    "#Colab specific code\n",
    "!pip install pandas_ta\n",
    "\n",
    "from google.colab import drive\n",
    "drive.mount('/content/drive')\n",
    "'''"
   ]
  },
  {
   "cell_type": "code",
   "execution_count": 7,
   "metadata": {
    "colab": {
     "base_uri": "https://localhost:8080/",
     "height": 54
    },
    "colab_type": "code",
    "executionInfo": {
     "elapsed": 3617,
     "status": "ok",
     "timestamp": 1586894871727,
     "user": {
      "displayName": "Sanjit Neelam",
      "photoUrl": "",
      "userId": "11343435696768886338"
     },
     "user_tz": -60
    },
    "id": "M0B8gHZF_B39",
    "outputId": "0fe9c93f-c23a-4810-8e11-3a8eebbe1518"
   },
   "outputs": [
    {
     "data": {
      "text/plain": [
       "\"\\nI have used the first 100000, 50000 and 10000 rows of df to experiment and try to\\noptimise different hyperparameters (h, train/test split, layer sizes, activation \\nfunction, optimizer, epochs) since it would take hours to add all the indicators \\nto every row of df. \\nWhen I refer to 'the guide' I mean MLatLSE_challenge_nn_stock_pred.pdf. \\nI left out some indicators without specific explanation due to unclear \\ndocumentation or not understanding their output.\\n\""
      ]
     },
     "execution_count": 7,
     "metadata": {
      "tags": []
     },
     "output_type": "execute_result"
    }
   ],
   "source": [
    "'''\n",
    "I have used the first 100000, 50000 and 10000 rows of df to experiment and try to\n",
    "optimise different hyperparameters (h, train/test split, layer sizes, activation \n",
    "function, optimizer, epochs) since it would take hours to add all the indicators \n",
    "to every row of df. \n",
    "When I refer to 'the guide' I mean MLatLSE_challenge_nn_stock_pred.pdf. \n",
    "I left out some indicators without specific explanation due to unclear \n",
    "documentation or not understanding their output.\n",
    "'''"
   ]
  },
  {
   "cell_type": "code",
   "execution_count": 1,
   "metadata": {
    "colab": {
     "base_uri": "https://localhost:8080/",
     "height": 71
    },
    "colab_type": "code",
    "executionInfo": {
     "elapsed": 30480,
     "status": "ok",
     "timestamp": 1586894898610,
     "user": {
      "displayName": "Sanjit Neelam",
      "photoUrl": "",
      "userId": "11343435696768886338"
     },
     "user_tz": -60
    },
    "id": "rDpoZztKvUSi",
    "outputId": "207aee6d-8faa-40ce-a0bf-32154f6380f4"
   },
   "outputs": [
    {
     "name": "stdout",
     "output_type": "stream",
     "text": [
      "bbands done\n"
     ]
    },
    {
     "data": {
      "text/plain": [
       "\" To complete\\n\\nTechnical Analysis Indicators (by Category)\\n\\nMomentum (21)\\nAwesome Oscillator: ao\\nAbsolute Price Oscillator: apo\\nBalance of Power: bop\\nCommodity Channel Index: cci\\nCenter of Gravity: cg\\nChande Momentum Oscillator: cmo\\nCoppock Curve: coppock\\nFisher Transform: fisher\\nKST Oscillator: kst\\nMoving Average Convergence Divergence: macd\\nMomentum: mom\\nPercentage Price Oscillator: ppo\\nRate of Change: roc\\nRelative Strength Index: rsi\\nRelative Vigor Index: rvi\\nSlope: slope\\nStochastic Oscillator: stoch\\nTrix: trix\\nTrue strength index: tsi\\nUltimate Oscillator: uo\\nWilliams %R: willr\\nMoving Average Convergence Divergence (MACD)\\n\\nOverlap (24)\\nDouble Exponential Moving Average: dema\\nExponential Moving Average: ema\\nFibonacci's Weighted Moving Average: fwma\\nHigh-Low Average: hl2\\nHigh-Low-Close Average: hlc3\\nCommonly known as 'Typical Price' in Technical Analysis literature\\nHull Exponential Moving Average: hma\\nKaufman's Adaptive Moving Average: kama\\nIchimoku Kinkō Hyō: ichimoku\\nLinear Regression: linreg\\nMidpoint: midpoint\\nMidprice: midprice\\nOpen-High-Low-Close Average: ohlc4\\nPascal's Weighted Moving Average: pwma\\nWilliam's Moving Average: rma\\nSimple Moving Average: sma\\nSine Weighted Moving Average: sinwma\\nSymmetric Weighted Moving Average: swma\\nT3 Moving Average: t3\\nTriple Exponential Moving Average: tema\\nTriangular Moving Average: trima\\nVolume Weighted Average Price: vwap\\nVolume Weighted Moving Average: vwma\\nWeighted Moving Average: wma\\nZero Lag Moving Average: zlma\\n\\nPerformance (3)\\n\\nLog Return: log_return\\nPercent Return: percent_return\\nTrend Return: trend_return\\nPercent Return (Cumulative) with Simple Moving Average (SMA)\\n\\nStatistics (8)\\nKurtosis: kurtosis\\nMean Absolute Deviation: mad\\nMedian: median\\nQuantile: quantile\\nSkew: skew\\nStandard Deviation: stdev\\nVariance: variance\\nZ Score: zscore\\nZ Score\\n\\nTrend (11)\\nAverage Directional Movement Index: adx\\nArcher Moving Averages Trends: amat\\nAroon Oscillator: aroon\\nDecreasing: decreasing\\nDetrended Price Oscillator: dpo\\nIncreasing: increasing\\nLinear Decay: linear_decay\\nLong Run: long_run\\nQ Stick: qstick\\nShort Run: short_run\\nVortex: vortex\\nAverage Directional Movement Index (ADX)\\n\\nUtility (1)\\nCross: cross\\n\\nVolatility (8)\\nAcceleration Bands: accbands\\nAverage True Range: atr\\nBollinger Bands: bbands\\nDonchian Channel: donchian\\nKeltner Channel: kc\\nMass Index: massi\\nNormalized Average True Range: natr\\nTrue Range: true_range\\nAverage True Range (ATR)\\n\\nVolume (13)\\nAccumulation/Distribution Index: ad\\nAccumulation/Distribution Oscillator: adosc\\nArcher On-Balance Volume: aobv\\nChaikin Money Flow: cmf\\nElder's Force Index: efi\\nEase of Movement: eom\\nMoney Flow Index: mfi\\nNegative Volume Index: nvi\\nOn-Balance Volume: obv\\nPositive Volume Index: pvi\\nPrice-Volume: pvol\\nPrice Volume Trend: pvt\\nVolume Profile: vp\\n\""
      ]
     },
     "execution_count": 1,
     "metadata": {},
     "output_type": "execute_result"
    }
   ],
   "source": [
    "\"\"\"\n",
    "Hi all, this is the starting point of the Machine Learning challenge.\n",
    "\n",
    "Follow the instructions on the pdf and remember to comment your code for \n",
    "clarity.\n",
    "\n",
    "The library for technical indicators is here: \n",
    "    \n",
    "    https://github.com/twopirllc/pandas-ta\n",
    "\n",
    "The number of indicators should be 84, but it depends how you decide to code\n",
    "them. As a consequence, remember to vary the size of the input layer in the \n",
    "neural network.\n",
    "\n",
    "Good luck!\n",
    "\n",
    "Gabriele\n",
    "\"\"\"\n",
    "\n",
    "import pandas as pd\n",
    "import pandas_ta as ta\n",
    "\n",
    "#df = pd.read_csv('/content/drive/My Drive/Datasets/bitstampUSD_1-min_data_2012-01-01_to_2019-08-12.csv', sep=',', header=0)\n",
    "df = pd.read_csv('bitstampUSD_1-min_data_2012-01-01_to_2019-08-12.csv', sep=',', header=0)\n",
    "\n",
    "# Clean NaN values\n",
    "df = df.dropna(axis=0)\n",
    "\n",
    "#Taking a subset to speed up development \n",
    "#df = df.head(10000)\n",
    "\n",
    "# Initialize Bollinger Bands Indicator\n",
    "df2=ta.bbands(close=df[\"Close\"], length = 20, std = 2)\n",
    "\n",
    "# Add Bollinger Bands features\n",
    "df['bbL']=df2.iloc[:,0]\n",
    "df['bbM']=df2.iloc[:,1]\n",
    "df['bbU']=df2.iloc[:,2]\n",
    "\n",
    "# Add Awesome Oscillator\n",
    "df[\"ao\"]=ta.ao(high=df[\"High\"],low=df[\"Low\"])\n",
    "\n",
    "# Add more stuff\n",
    "df[\"apo\"]=ta.apo(close=df[\"Close\"])\n",
    "df[\"bop\"]=ta.bop(open_=df[\"Open\"],high=df[\"High\"],low=df[\"Low\"],close=df[\"Close\"])\n",
    "df[\"cci\"]=ta.cci(high=df[\"High\"],low=df[\"Low\"],close=df[\"Close\"])\n",
    "df[\"cg\"]=ta.cg(close=df[\"Close\"])\n",
    "df[\"cmo\"]=ta.cmo(close=df[\"Close\"])\n",
    "df[\"cpk\"]=ta.coppock(close=df[\"Close\"])\n",
    "#df[\"fish\"]=ta.fisher(high=df[\"High\"],low=df[\"Low\"])\n",
    "#df[\"kst\"]=ta.kst(close=df[\"Close\"])\n",
    "#df[\"macd\"]=ta.macd(close=df[\"Close\"])\n",
    "df[\"mom\"]=ta.mom(close=df[\"Close\"])\n",
    "#df[\"ppo\"]=ta.ppo(close=df[\"Close\"])\n",
    "df[\"roc\"]=ta.roc(close=df[\"Close\"])\n",
    "df[\"rsi\"]=ta.rsi(close=df[\"Close\"])\n",
    "#df[\"rvi\"]=ta.rvi(open_=df[\"Open\"],high=df[\"High\"],low=df[\"Low\"],close=df[\"Close\"])\n",
    "df[\"slope\"]=ta.slope(close=df[\"Close\"])\n",
    "#df[\"stoch\"]=ta.stoch(high=df[\"High\"],low=df[\"Low\"],close=df[\"Close\"])\n",
    "df[\"trix\"]=ta.trix(close=df[\"Close\"])\n",
    "df[\"tsi\"]=ta.tsi(close=df[\"Close\"])\n",
    "df[\"uo\"]=ta.uo(high=df[\"High\"],low=df[\"Low\"],close=df[\"Close\"])\n",
    "df[\"willr\"]=ta.willr(high=df[\"High\"],low=df[\"Low\"],close=df[\"Close\"])\n",
    "\n",
    "''' To complete\n",
    "\n",
    "Technical Analysis Indicators (by Category)\n",
    "\n",
    "Momentum (21)\n",
    "Awesome Oscillator: ao\n",
    "Absolute Price Oscillator: apo\n",
    "Balance of Power: bop\n",
    "Commodity Channel Index: cci\n",
    "Center of Gravity: cg\n",
    "Chande Momentum Oscillator: cmo\n",
    "Coppock Curve: coppock\n",
    "Fisher Transform: fisher\n",
    "KST Oscillator: kst\n",
    "Moving Average Convergence Divergence: macd\n",
    "Momentum: mom\n",
    "Percentage Price Oscillator: ppo\n",
    "Rate of Change: roc\n",
    "Relative Strength Index: rsi\n",
    "Relative Vigor Index: rvi\n",
    "Slope: slope\n",
    "Stochastic Oscillator: stoch\n",
    "Trix: trix\n",
    "True strength index: tsi\n",
    "Ultimate Oscillator: uo\n",
    "Williams %R: willr\n",
    "Moving Average Convergence Divergence (MACD)\n",
    "\n",
    "Overlap (24)\n",
    "Double Exponential Moving Average: dema\n",
    "Exponential Moving Average: ema\n",
    "Fibonacci's Weighted Moving Average: fwma\n",
    "High-Low Average: hl2\n",
    "High-Low-Close Average: hlc3\n",
    "Commonly known as 'Typical Price' in Technical Analysis literature\n",
    "Hull Exponential Moving Average: hma\n",
    "Kaufman's Adaptive Moving Average: kama\n",
    "Ichimoku Kinkō Hyō: ichimoku\n",
    "Linear Regression: linreg\n",
    "Midpoint: midpoint\n",
    "Midprice: midprice\n",
    "Open-High-Low-Close Average: ohlc4\n",
    "Pascal's Weighted Moving Average: pwma\n",
    "William's Moving Average: rma\n",
    "Simple Moving Average: sma\n",
    "Sine Weighted Moving Average: sinwma\n",
    "Symmetric Weighted Moving Average: swma\n",
    "T3 Moving Average: t3\n",
    "Triple Exponential Moving Average: tema\n",
    "Triangular Moving Average: trima\n",
    "Volume Weighted Average Price: vwap\n",
    "Volume Weighted Moving Average: vwma\n",
    "Weighted Moving Average: wma\n",
    "Zero Lag Moving Average: zlma\n",
    "\n",
    "Performance (3)\n",
    "\n",
    "Log Return: log_return\n",
    "Percent Return: percent_return\n",
    "Trend Return: trend_return\n",
    "Percent Return (Cumulative) with Simple Moving Average (SMA)\n",
    "\n",
    "Statistics (8)\n",
    "Kurtosis: kurtosis\n",
    "Mean Absolute Deviation: mad\n",
    "Median: median\n",
    "Quantile: quantile\n",
    "Skew: skew\n",
    "Standard Deviation: stdev\n",
    "Variance: variance\n",
    "Z Score: zscore\n",
    "Z Score\n",
    "\n",
    "Trend (11)\n",
    "Average Directional Movement Index: adx\n",
    "Archer Moving Averages Trends: amat\n",
    "Aroon Oscillator: aroon\n",
    "Decreasing: decreasing\n",
    "Detrended Price Oscillator: dpo\n",
    "Increasing: increasing\n",
    "Linear Decay: linear_decay\n",
    "Long Run: long_run\n",
    "Q Stick: qstick\n",
    "Short Run: short_run\n",
    "Vortex: vortex\n",
    "Average Directional Movement Index (ADX)\n",
    "\n",
    "Utility (1)\n",
    "Cross: cross\n",
    "\n",
    "Volatility (8)\n",
    "Acceleration Bands: accbands\n",
    "Average True Range: atr\n",
    "Bollinger Bands: bbands\n",
    "Donchian Channel: donchian\n",
    "Keltner Channel: kc\n",
    "Mass Index: massi\n",
    "Normalized Average True Range: natr\n",
    "True Range: true_range\n",
    "Average True Range (ATR)\n",
    "\n",
    "Volume (13)\n",
    "Accumulation/Distribution Index: ad\n",
    "Accumulation/Distribution Oscillator: adosc\n",
    "Archer On-Balance Volume: aobv\n",
    "Chaikin Money Flow: cmf\n",
    "Elder's Force Index: efi\n",
    "Ease of Movement: eom\n",
    "Money Flow Index: mfi\n",
    "Negative Volume Index: nvi\n",
    "On-Balance Volume: obv\n",
    "Positive Volume Index: pvi\n",
    "Price-Volume: pvol\n",
    "Price Volume Trend: pvt\n",
    "Volume Profile: vp\n",
    "'''"
   ]
  },
  {
   "cell_type": "code",
   "execution_count": 2,
   "metadata": {
    "colab": {},
    "colab_type": "code",
    "id": "vazEWBLAvUSz"
   },
   "outputs": [],
   "source": [
    "#Returns KeyError: 4\n",
    "#df[\"fish\"] = ta.fisher(high = df[\"High\"], low = df[\"Low\"])\n",
    "df[\"kst\"] = ta.kst(close = df[\"Close\"]).iloc[:,0]\n",
    "df[\"kstS\"] = ta.kst(close = df[\"Close\"]).iloc[:,1]\n",
    "#MACD is the same as APO. Outputs macd, histogram (macd - signal) and signal (EMA of macd) \n",
    "#df[\"macd\"] = ta.macd(close = df[\"Close\"])\n",
    "#Percentage Price Oscillator; similar to MACD. Outputs ppo, histogram (ppo - signal) and signal (EMA of ppo)\n",
    "df[\"ppo\"] = ta.macd(close = df[\"Close\"]).iloc[:,0]\n",
    "#Outputs rvi and rvis. No mention of rvis in documentation\n",
    "df[\"rvi\"] = ta.rvi(open_ = df[\"Open\"], high = df[\"High\"], low = df[\"Low\"], close = df[\"Close\"]).iloc[:,0]\n",
    "#Does not output %K and %D values; only fastk, fastd, slowk, slowd\n",
    "#df[\"stoch\"] = ta.stoch(high = df[\"High\"], low = df[\"Low\"], close = df[\"Close\"])"
   ]
  },
  {
   "cell_type": "code",
   "execution_count": 3,
   "metadata": {
    "colab": {},
    "colab_type": "code",
    "id": "-RUnV8mxvUS9",
    "scrolled": true
   },
   "outputs": [],
   "source": [
    "df[\"dema\"] = ta.dema(close = df[\"Close\"])\n",
    "df[\"ema\"] = ta.ema(close = df[\"Close\"])\n",
    "df[\"fwma\"] = ta.fwma(close = df[\"Close\"])\n",
    "df[\"hl2\"] = ta.hl2(high = df[\"High\"], low = df[\"Low\"])\n",
    "df[\"hlc3\"] = ta.hlc3(high = df[\"High\"], low = df[\"Low\"], close = df[\"Close\"])\n",
    "df[\"hma\"] = ta.hma(close = df[\"Close\"])\n",
    "#length argument must be specified, else we get KeyError: 10\n",
    "df[\"kama\"] = ta.kama(close = df[\"Close\"], length = len(df[\"Close\"]))\n",
    "#See documentation. Outputs a tuple\n",
    "#df[\"ichimoku\"] = ta.ichimoku(high = df[\"High\"], low = df[\"Low\"], close = df[\"Close\"])\n",
    "df[\"linreg\"] = ta.linreg(close = df[\"Close\"])\n",
    "df[\"midpoint\"] = ta.midpoint(close = df[\"Close\"])\n",
    "df[\"midprice\"] = ta.midprice(high = df[\"High\"], low = df[\"Low\"], )\n",
    "df[\"ohlc4\"] = ta.ohlc4(open_ = df[\"Open\"], high = df[\"High\"], low = df[\"Low\"], close = df[\"Close\"])\n",
    "df[\"pwma\"] = ta.pwma(close = df[\"Close\"])\n",
    "df[\"rma\"] = ta.rma(close = df[\"Close\"])\n",
    "df[\"sma\"] = ta.sma(close = df[\"Close\"])\n",
    "df[\"sinwma\"] = ta.sinwma(close = df[\"Close\"])\n",
    "df[\"swma\"] = ta.swma(close = df[\"Close\"])\n",
    "df[\"t3\"] = ta.t3(close = df[\"Close\"])\n",
    "df[\"tema\"] = ta.tema(close = df[\"Close\"])\n",
    "df[\"trima\"] = ta.trima(close = df[\"Close\"])\n",
    "df[\"vwap\"] = ta.vwap(high = df[\"High\"], low = df[\"Low\"], close = df[\"Close\"], volume = df[\"Volume_(BTC)\"])\n",
    "df[\"vwma\"] = ta.vwma(close = df[\"Close\"], volume = df[\"Volume_(BTC)\"])\n",
    "df[\"wma\"] = ta.wma(close = df[\"Close\"])\n",
    "df[\"zlma\"] = ta.zlma(close = df[\"Close\"])"
   ]
  },
  {
   "cell_type": "code",
   "execution_count": 5,
   "metadata": {
    "colab": {},
    "colab_type": "code",
    "id": "008n9XKAvUTM"
   },
   "outputs": [],
   "source": [
    "df[\"log_return\"] = ta.log_return(close = df[\"Close\"])\n",
    "df[\"percent_return\"] = ta.percent_return(close = df[\"Close\"])\n",
    "#NA values in df[\"sma\"]\n",
    "#df[\"trend_return\"] = ta.trend_return(close = df[\"Close\"], trend = df[\"sma\"], log = False, cumulative = True)"
   ]
  },
  {
   "cell_type": "code",
   "execution_count": 6,
   "metadata": {
    "colab": {},
    "colab_type": "code",
    "id": "QpQOJ86fvUTS"
   },
   "outputs": [],
   "source": [
    "df[\"kurtosis\"] = ta.kurtosis(close = df[\"Close\"])\n",
    "df[\"mad\"] = ta.mad(close = df[\"Close\"])\n",
    "df[\"median\"] = ta.median(close = df[\"Close\"])\n",
    "df[\"quantile\"] = ta.quantile(close = df[\"Close\"])\n",
    "df[\"skew\"] = ta.skew(close = df[\"Close\"])\n",
    "df[\"stdev\"] = ta.stdev(close = df[\"Close\"])\n",
    "df[\"variance\"] = ta.variance(close = df[\"Close\"])\n",
    "df[\"zscore\"] = ta.zscore(close = df[\"Close\"])"
   ]
  },
  {
   "cell_type": "code",
   "execution_count": 7,
   "metadata": {
    "colab": {},
    "colab_type": "code",
    "id": "1l-QbRfGvUTa"
   },
   "outputs": [],
   "source": [
    "#Outputs a dataframe with columns 'ADX_14', 'DMP_14', 'DMN_14'. \n",
    "#We will use only the ADX_14 column, since documentation does not mention dmp or dmn\n",
    "df[\"adx\"] = ta.adx(high = df[\"High\"], low = df[\"Low\"], close = df[\"Close\"]).iloc[:,0]\n",
    "#No documentation. Outputs a dataframe with columns 'AMAT_LR_2', 'AMAT_SR_2'\n",
    "#df[\"amat\"] = ta.amat(close = df[\"Close\"])['AMAT_LR_2']\n",
    "df[\"aroonD\"] = ta.aroon(close = df[\"Close\"]).iloc[:,0]\n",
    "df[\"aroonU\"] = ta.aroon(close = df[\"Close\"]).iloc[:,1]"
   ]
  },
  {
   "cell_type": "code",
   "execution_count": 8,
   "metadata": {
    "colab": {},
    "colab_type": "code",
    "id": "3PkT8AD7vUTd"
   },
   "outputs": [],
   "source": [
    "df[\"decreasing\"] = ta.decreasing(close = df[\"Close\"])\n",
    "df[\"dpo\"] = ta.dpo(close = df[\"Close\"])\n",
    "df[\"increasing\"] = ta.increasing(close = df[\"Close\"])\n",
    "#Returned KeyErrors when using the last few rows of df\n",
    "#df[\"linear_decay\"] = ta.linear_decay(close = df[\"Close\"])\n",
    "#No documentation. Returns ? features\n",
    "#df[\"long_run\"] = ta.long_run(fast = , slow = )   \n",
    "df[\"qstick\"] = ta.qstick(open_ = df[\"Open\"], close = df[\"Close\"])\n",
    "#No documentation. Returns ? features\n",
    "#df[\"short_run\"] = ta.short_run(fast = , slow = )\n",
    "df[\"vortexVIP\"] = ta.vortex(high = df[\"High\"], low = df[\"Low\"], close = df[\"Close\"]).iloc[:,0]\n",
    "df[\"vortexVIM\"] = ta.vortex(high = df[\"High\"], low = df[\"Low\"], close = df[\"Close\"]).iloc[:,1]"
   ]
  },
  {
   "cell_type": "code",
   "execution_count": 9,
   "metadata": {
    "colab": {},
    "colab_type": "code",
    "id": "2muBBuOWvUTh"
   },
   "outputs": [],
   "source": [
    "#No documentation\n",
    "#df[\"cross\"] = ta.cross(series_a = , series_b = )"
   ]
  },
  {
   "cell_type": "code",
   "execution_count": 10,
   "metadata": {
    "colab": {},
    "colab_type": "code",
    "id": "FgLkjJFrvUTk"
   },
   "outputs": [],
   "source": [
    "df[\"accbandsL\"] = ta.accbands(high = df[\"High\"], low = df[\"Low\"], close = df[\"Close\"]).iloc[:,0]\n",
    "df[\"accbandsM\"] = ta.accbands(high = df[\"High\"], low = df[\"Low\"], close = df[\"Close\"]).iloc[:,1]\n",
    "df[\"accbandsU\"] = ta.accbands(high = df[\"High\"], low = df[\"Low\"], close = df[\"Close\"]).iloc[:,2]\n",
    "df[\"atr\"] = ta.atr(high = df[\"High\"], low = df[\"Low\"], close = df[\"Close\"])\n",
    "df[\"donchianL\"] = ta.donchian(close = df[\"Close\"]).iloc[:,0]\n",
    "df[\"donchianM\"] = ta.donchian(close = df[\"Close\"]).iloc[:,1]\n",
    "df[\"donchianU\"] = ta.donchian(close = df[\"Close\"]).iloc[:,2]\n",
    "df[\"kcL\"] = ta.kc(high = df[\"High\"], low = df[\"Low\"], close = df[\"Close\"]).iloc[:,0]\n",
    "df[\"kcB\"] = ta.kc(high = df[\"High\"], low = df[\"Low\"], close = df[\"Close\"]).iloc[:,1]\n",
    "df[\"kcU\"] = ta.kc(high = df[\"High\"], low = df[\"Low\"], close = df[\"Close\"]).iloc[:,2]\n",
    "df[\"massi\"] = ta.massi(high = df[\"High\"], low = df[\"Low\"])\n",
    "df[\"natr\"] = ta.natr(high = df[\"High\"], low = df[\"Low\"], close = df[\"Close\"])\n",
    "df[\"true_range\"] = ta.true_range(high = df[\"High\"], low = df[\"Low\"], close = df[\"Close\"])"
   ]
  },
  {
   "cell_type": "code",
   "execution_count": 11,
   "metadata": {
    "colab": {},
    "colab_type": "code",
    "id": "AF92YvZNvUTo"
   },
   "outputs": [],
   "source": [
    "df[\"ad\"] = ta.ad(high = df[\"High\"], low = df[\"Low\"], close = df[\"Close\"], volume = df[\"Volume_(BTC)\"])\n",
    "df[\"adosc\"] = ta.adosc(high = df[\"High\"], low = df[\"Low\"], close = df[\"Close\"], volume = df[\"Volume_(BTC)\"])\n",
    "#No documentation. Returns 7 features\n",
    "#df[\"aobv\"] = ta.aobv(close = df[\"Close\"], volume = df[\"Volume_(BTC)\"])\n",
    "df[\"cmf\"] = ta.cmf(high = df[\"High\"], low = df[\"Low\"], close = df[\"Close\"], volume = df[\"Volume_(BTC)\"])\n",
    "df[\"efi\"] = ta.efi(close = df[\"Close\"], volume = df[\"Volume_(BTC)\"])\n",
    "df[\"eom\"] = ta.eom(high = df[\"High\"], low = df[\"Low\"], close = df[\"Close\"], volume = df[\"Volume_(BTC)\"])\n",
    "df[\"mfi\"] = ta.mfi(high = df[\"High\"], low = df[\"Low\"], close = df[\"Close\"], volume = df[\"Volume_(BTC)\"])\n",
    "df[\"nvi\"] = ta.nvi(close = df[\"Close\"], volume = df[\"Volume_(BTC)\"])\n",
    "df[\"obv\"] = ta.obv(close = df[\"Close\"], volume = df[\"Volume_(BTC)\"])\n",
    "df[\"pvi\"] = ta.pvi(close = df[\"Close\"], volume = df[\"Volume_(BTC)\"])\n",
    "df[\"pvol\"] = ta.pvol(close = df[\"Close\"], volume = df[\"Volume_(BTC)\"])\n",
    "df[\"pvt\"] = ta.pvt(close = df[\"Close\"], volume = df[\"Volume_(BTC)\"])\n",
    "#See documentation. Returns 6 features\n",
    "#df[\"vp\"] = ta.vp(close = df[\"Close\"], volume = df[\"Volume_(BTC)\"])"
   ]
  },
  {
   "cell_type": "code",
   "execution_count": 12,
   "metadata": {
    "colab": {},
    "colab_type": "code",
    "id": "014oWHb84g86"
   },
   "outputs": [],
   "source": [
    "df.to_csv('df.csv', encoding='utf-8', index=False)"
   ]
  },
  {
   "cell_type": "code",
   "execution_count": 19,
   "metadata": {
    "colab": {
     "base_uri": "https://localhost:8080/",
     "height": 34
    },
    "colab_type": "code",
    "executionInfo": {
     "elapsed": 93218,
     "status": "ok",
     "timestamp": 1586894961386,
     "user": {
      "displayName": "Sanjit Neelam",
      "photoUrl": "",
      "userId": "11343435696768886338"
     },
     "user_tz": -60
    },
    "id": "2zClOuv2vUTt",
    "outputId": "128ff038-5c7f-4c16-aa1c-3a5b6dcde398"
   },
   "outputs": [
    {
     "data": {
      "text/plain": [
       "'\\nhelp(ta.___)\\n\\ndf3 = ta.___()\\ndf3\\n'"
      ]
     },
     "execution_count": 19,
     "metadata": {
      "tags": []
     },
     "output_type": "execute_result"
    }
   ],
   "source": [
    "'''\n",
    "help(ta.___)\n",
    "\n",
    "df3 = ta.___()\n",
    "df3\n",
    "'''"
   ]
  },
  {
   "cell_type": "code",
   "execution_count": 13,
   "metadata": {
    "colab": {},
    "colab_type": "code",
    "id": "oCj3WYV4vUTx"
   },
   "outputs": [],
   "source": [
    "import numpy as np\n",
    "def Stationarise(a, b):\n",
    "    p = np.log((np.array(a)/np.array(b)))\n",
    "    return p"
   ]
  },
  {
   "cell_type": "code",
   "execution_count": 14,
   "metadata": {
    "colab": {
     "base_uri": "https://localhost:8080/",
     "height": 153
    },
    "colab_type": "code",
    "executionInfo": {
     "elapsed": 93845,
     "status": "ok",
     "timestamp": 1586894962032,
     "user": {
      "displayName": "Sanjit Neelam",
      "photoUrl": "",
      "userId": "11343435696768886338"
     },
     "user_tz": -60
    },
    "id": "q_F9-Y9zvUT1",
    "outputId": "ac6a0ca9-0f30-4475-d711-ae5e2eeb6e89",
    "scrolled": true
   },
   "outputs": [
    {
     "name": "stderr",
     "output_type": "stream",
     "text": [
      "/Users/Sanjit/opt/anaconda3/lib/python3.7/site-packages/ipykernel_launcher.py:3: RuntimeWarning: divide by zero encountered in true_divide\n",
      "  This is separate from the ipykernel package so we can avoid doing imports until\n",
      "/Users/Sanjit/opt/anaconda3/lib/python3.7/site-packages/ipykernel_launcher.py:3: RuntimeWarning: divide by zero encountered in log\n",
      "  This is separate from the ipykernel package so we can avoid doing imports until\n",
      "/Users/Sanjit/opt/anaconda3/lib/python3.7/site-packages/ipykernel_launcher.py:3: RuntimeWarning: invalid value encountered in log\n",
      "  This is separate from the ipykernel package so we can avoid doing imports until\n",
      "/Users/Sanjit/opt/anaconda3/lib/python3.7/site-packages/ipykernel_launcher.py:3: RuntimeWarning: invalid value encountered in true_divide\n",
      "  This is separate from the ipykernel package so we can avoid doing imports until\n"
     ]
    }
   ],
   "source": [
    "#Define predictor dataframe\n",
    "X = pd.DataFrame({})\n",
    "\n",
    "#Stationarising data\n",
    "#Price-like \n",
    "X[\"Close\"] = Stationarise(df[\"Close\"][1:], df[\"Close\"][:(len(df[\"Close\"]) - 1)])\n",
    "X[\"Volume_(BTC)\"] = Stationarise(df[\"Volume_(BTC)\"][1:], df[\"Volume_(BTC)\"][:(len(df[\"Close\"]) - 1)])\n",
    "X[\"Volume_(Currency)\"] = Stationarise(df[\"Volume_(Currency)\"][1:], df[\"Volume_(Currency)\"][:(len(df[\"Close\"]) - 1)])\n",
    "X[\"Weighted_Price\"] = Stationarise(df[\"Weighted_Price\"][1:], df[\"Weighted_Price\"][:(len(df[\"Close\"]) - 1)])\n",
    "#Moving averages\n",
    "X[\"bbL\"] = Stationarise(df[\"bbL\"][1:], df[\"Close\"][1:])\n",
    "X[\"bbM\"] = Stationarise(df[\"bbM\"][1:], df[\"Close\"][1:])\n",
    "X[\"bbU\"] = Stationarise(df[\"bbU\"][1:], df[\"Close\"][1:])\n",
    "#Calculated over a period, so will be treated as moving averages\n",
    "X[\"ao\"] = Stationarise(df[\"ao\"][1:], df[\"Close\"][1:])\n",
    "X[\"apo\"] = Stationarise(df[\"apo\"][1:], df[\"Close\"][1:])\n",
    "#Not calculated over a period\n",
    "X[\"bop\"] = Stationarise(df[\"bop\"][1:], df[\"bop\"][:(len(df[\"Close\"]) - 1)])\n",
    "#Calculated over a period, so will be treated as moving averages\n",
    "X[\"cci\"] = Stationarise(df[\"cci\"][1:], df[\"Close\"][1:])\n",
    "X[\"cg\"] = Stationarise(df[\"cg\"][1:], df[\"Close\"][1:])\n",
    "#Inconsistency in documentation\n",
    "#X[\"cmo\"] = Stationarise(df[\"cmo\"][1:], df[\"Close\"][1:])\n",
    "#Calculated over a period, so will be treated as a moving average\n",
    "X[\"cpk\"] = Stationarise(df[\"cpk\"][1:], df[\"Close\"][1:])\n",
    "#not calculated over a period\n",
    "X[\"mom\"] = Stationarise(df[\"mom\"][1:], df[\"mom\"][:(len(df[\"Close\"]) - 1)])\n",
    "X[\"roc\"] = Stationarise(df[\"roc\"][1:], df[\"roc\"][:(len(df[\"Close\"]) - 1)])\n",
    "X[\"rsi\"] = Stationarise(df[\"rsi\"][1:], df[\"rsi\"][:(len(df[\"Close\"]) - 1)])\n",
    "X[\"slope\"] = Stationarise(df[\"slope\"][1:], df[\"slope\"][:(len(df[\"Close\"]) - 1)])\n",
    "#Calculated over a period, so will be treated as moving averages\n",
    "X[\"trix\"] = Stationarise(df[\"trix\"][1:], df[\"Close\"][1:])\n",
    "X[\"tsi\"] = Stationarise(df[\"tsi\"][1:], df[\"Close\"][1:])\n",
    "X[\"uo\"] = Stationarise(df[\"uo\"][1:], df[\"Close\"][1:])\n",
    "X[\"willr\"] = Stationarise(df[\"willr\"][1:], df[\"Close\"][1:])\n",
    "X[\"kst\"] = Stationarise(df[\"kst\"][1:], df[\"Close\"][1:])\n",
    "X[\"kstS\"] = Stationarise(df[\"kstS\"][1:], df[\"Close\"][1:])\n",
    "X[\"ppo\"] = Stationarise(df[\"ppo\"][1:], df[\"Close\"][1:])\n",
    "X[\"rvi\"] = Stationarise(df[\"rvi\"][1:], df[\"Close\"][1:])\n",
    "#Moving averages\n",
    "X[\"dema\"] = Stationarise(df[\"dema\"][1:], df[\"Close\"][1:])\n",
    "X[\"ema\"] = Stationarise(df[\"ema\"][1:], df[\"Close\"][1:])\n",
    "X[\"fwma\"] = Stationarise(df[\"fwma\"][1:], df[\"Close\"][1:])\n",
    "X[\"hl2\"] = Stationarise(df[\"hl2\"][1:], df[\"Close\"][1:])\n",
    "X[\"hlc3\"] = Stationarise(df[\"hlc3\"][1:], df[\"Close\"][1:])\n",
    "X[\"hma\"] = Stationarise(df[\"hma\"][1:], df[\"Close\"][1:])\n",
    "X[\"kama\"] = Stationarise(df[\"kama\"][1:], df[\"Close\"][1:])\n",
    "X[\"linreg\"] = Stationarise(df[\"linreg\"][1:], df[\"Close\"][1:])\n",
    "#Should these be treated as prices?\n",
    "X[\"midpoint\"] = Stationarise(df[\"midpoint\"][1:], df[\"midpoint\"][:(len(df[\"Close\"]) - 1)])\n",
    "X[\"midprice\"] = Stationarise(df[\"midprice\"][1:], df[\"midprice\"][:(len(df[\"Close\"]) - 1)])\n",
    "X[\"ohlc4\"] = Stationarise(df[\"ohlc4\"][1:], df[\"ohlc4\"][:(len(df[\"Close\"]) - 1)])\n",
    "#Moving averages\n",
    "X[\"pwma\"] = Stationarise(df[\"pwma\"][1:], df[\"Close\"][1:])\n",
    "X[\"rma\"] = Stationarise(df[\"rma\"][1:], df[\"Close\"][1:])\n",
    "X[\"sma\"] = Stationarise(df[\"sma\"][1:], df[\"Close\"][1:])\n",
    "X[\"sinwma\"] = Stationarise(df[\"sinwma\"][1:], df[\"Close\"][1:])\n",
    "X[\"t3\"] = Stationarise(df[\"t3\"][1:], df[\"Close\"][1:])\n",
    "X[\"tema\"] = Stationarise(df[\"tema\"][1:], df[\"Close\"][1:])\n",
    "X[\"trima\"] = Stationarise(df[\"trima\"][1:], df[\"Close\"][1:])\n",
    "#Should this be treated as a price?\n",
    "X[\"vwap\"] = Stationarise(df[\"vwap\"][1:], df[\"vwap\"][:(len(df[\"Close\"]) - 1)])\n",
    "#Moving averages\n",
    "X[\"vwma\"] = Stationarise(df[\"vwma\"][1:], df[\"Close\"][1:])\n",
    "X[\"wma\"] = Stationarise(df[\"wma\"][1:], df[\"Close\"][1:])\n",
    "X[\"zlma\"] = Stationarise(df[\"zlma\"][1:], df[\"Close\"][1:])\n",
    "#Should these be stationarised? As prices or moving averages?\n",
    "X[\"log_return\"] = df[\"log_return\"]\n",
    "X[\"percent_return\"] = df[\"percent_return\"]\n",
    "#Calculated over a period, so will be treated as moving averages\n",
    "X[\"kurtosis\"] = Stationarise(df[\"kurtosis\"][1:], df[\"Close\"][1:])\n",
    "X[\"mad\"] = Stationarise(df[\"mad\"][1:], df[\"Close\"][1:])\n",
    "X[\"median\"] = Stationarise(df[\"median\"][1:], df[\"Close\"][1:])\n",
    "X[\"quantile\"] = Stationarise(df[\"quantile\"][1:], df[\"Close\"][1:])\n",
    "X[\"skew\"] = Stationarise(df[\"skew\"][1:], df[\"Close\"][1:])\n",
    "X[\"stdev\"] = Stationarise(df[\"stdev\"][1:], df[\"Close\"][1:])\n",
    "X[\"variance\"] = Stationarise(df[\"variance\"][1:], df[\"Close\"][1:])\n",
    "X[\"zscore\"] = Stationarise(df[\"zscore\"][1:], df[\"Close\"][1:])\n",
    "X[\"adx\"] = Stationarise(df[\"adx\"][1:], df[\"Close\"][1:])\n",
    "#?\n",
    "#X[\"aroonD\"] = Stationarise(df[\"aroonD\"][1:], df[\"Close\"][1:])\n",
    "#X[\"aroonU\"] = Stationarise(df[\"aroonU\"][1:], df[\"Close\"][1:])\n",
    "#Boolean series\n",
    "X[\"decreasing\"] = df[\"decreasing\"]\n",
    "#Not calculated over a period\n",
    "X[\"dpo\"] = Stationarise(df[\"dpo\"][1:], df[\"dpo\"][:(len(df[\"Close\"]) - 1)])\n",
    "#Boolean series\n",
    "X[\"increasing\"] = df[\"increasing\"]\n",
    "#Calculated over a period, so will be treated as moving averages. Contradictions in documentation\n",
    "#X[\"linear_decay\"] = Stationarise(df[\"linear_decay\"][1:], df[\"Close\"][1:])\n",
    "#X[\"qstick\"] = Stationarise(df[\"qstick\"][1:], df[\"Close\"][1:])\n",
    "#Calculated over a period, so will be treated as moving averages\n",
    "X[\"vortexVIP\"] = Stationarise(df[\"vortexVIP\"][1:], df[\"Close\"][1:])\n",
    "X[\"vortexVIM\"] = Stationarise(df[\"vortexVIM\"][1:], df[\"Close\"][1:])\n",
    "#Moving averages\n",
    "X[\"accbandsL\"] = Stationarise(df[\"accbandsL\"][1:], df[\"Close\"][1:])\n",
    "X[\"accbandsM\"] = Stationarise(df[\"accbandsM\"][1:], df[\"Close\"][1:])\n",
    "X[\"accbandsU\"] = Stationarise(df[\"accbandsU\"][1:], df[\"Close\"][1:])\n",
    "X[\"atr\"] = Stationarise(df[\"atr\"][1:], df[\"Close\"][1:])\n",
    "X[\"donchianL\"] = Stationarise(df[\"donchianL\"][1:], df[\"Close\"][1:])\n",
    "X[\"donchianM\"] = Stationarise(df[\"donchianM\"][1:], df[\"Close\"][1:])\n",
    "X[\"donchianU\"] = Stationarise(df[\"donchianU\"][1:], df[\"Close\"][1:])\n",
    "X[\"kcL\"] = Stationarise(df[\"kcL\"][1:], df[\"Close\"][1:])\n",
    "X[\"kcB\"] = Stationarise(df[\"kcB\"][1:], df[\"Close\"][1:])\n",
    "X[\"kcU\"] = Stationarise(df[\"kcU\"][1:], df[\"Close\"][1:])\n",
    "#Calculated over a period, so will be treated as moving averages\n",
    "X[\"massi\"] = Stationarise(df[\"massi\"][1:], df[\"Close\"][1:])\n",
    "X[\"natr\"] = Stationarise(df[\"natr\"][1:], df[\"Close\"][1:])\n",
    "#?\n",
    "#X[\"true_range\"] = Stationarise(df[\"true_range\"][1:], df[\"true_range\"][:(len(df[\"Close\"]) - 1)])\n",
    "#Not calculated over a period\n",
    "X[\"ad\"] = Stationarise(df[\"ad\"][1:], df[\"ad\"][:(len(df[\"Close\"]) - 1)])\n",
    "X[\"adosc\"] = Stationarise(df[\"adosc\"][1:], df[\"adosc\"][:(len(df[\"Close\"]) - 1)])\n",
    "#Calculated over a period, so will be treated as moving averages\n",
    "X[\"cmf\"] = Stationarise(df[\"cmf\"][1:], df[\"Close\"][1:])\n",
    "X[\"efi\"] = Stationarise(df[\"efi\"][1:], df[\"Close\"][1:])\n",
    "X[\"eom\"] = Stationarise(df[\"eom\"][1:], df[\"Close\"][1:])\n",
    "X[\"mfi\"] = Stationarise(df[\"mfi\"][1:], df[\"Close\"][1:])\n",
    "X[\"nvi\"] = Stationarise(df[\"nvi\"][1:], df[\"Close\"][1:])\n",
    "#Volume-like\n",
    "X[\"obv\"] = Stationarise(df[\"obv\"][1:], df[\"obv\"][:(len(df[\"Close\"]) - 1)])\n",
    "#Calculated over a period, so will be treated as a moving average\n",
    "X[\"pvi\"] = Stationarise(df[\"pvi\"][1:], df[\"Close\"][1:])\n",
    "#Volume-like\n",
    "X[\"pvol\"] = Stationarise(df[\"pvol\"][1:], df[\"pvol\"][:(len(df[\"Close\"]) - 1)])\n",
    "#Not calculated over a period\n",
    "X[\"pvt\"] = Stationarise(df[\"pvt\"][1:], df[\"pvt\"][:(len(df[\"Close\"]) - 1)])\n",
    "\n",
    "\n",
    "#df[\"___\"][1:] is the 't' series, df[\"___\"][:(len(df[\"Close\"]) - 1)] is the 't-1' series\n",
    "#'Not calculated over a period' means the indicator is a transformation of price \n",
    "#or the first difference of prices. Many of these variables can be calculated \n",
    "#over a period by changing the default value of some of their arguments. \n",
    "\n",
    "\n",
    "#Add a row of NaNs to the top of X to ensure it aligns with timestamp\n",
    "X.loc[-1] = [np.nan] * len(X.columns)\n",
    "X.index = X.index + 1 \n",
    "X = X.sort_index()"
   ]
  },
  {
   "cell_type": "code",
   "execution_count": 15,
   "metadata": {
    "colab": {},
    "colab_type": "code",
    "id": "vEFOWBXu4HuM"
   },
   "outputs": [],
   "source": [
    "X.to_csv('X.csv', encoding='utf-8', index=False)"
   ]
  },
  {
   "cell_type": "code",
   "execution_count": 16,
   "metadata": {
    "colab": {},
    "colab_type": "code",
    "id": "YunYubz6vUT8"
   },
   "outputs": [],
   "source": [
    "'''\n",
    "For cryptocurrencies, a google search showed that commissions average between \n",
    "0.1% and 0.25% of the trade value. We will therefore assume commission is 0.1% \n",
    "of £10000 i.e. £10 per transaction. According to \n",
    "https://data.bitcoinity.org/markets/spread/5y/USD?c=e&f=m10&st=log&t=l, the \n",
    "bid-ask spread averages from between 0.01% and 1% of the trade value. We will \n",
    "therefore assume the bid-ask spread is 0.01% of £10000 i.e. £1 per transaction. \n",
    "So our roundtrip cost is c = £22. \n",
    "\n",
    "As h approaches the length of df, the model accuracy approaches 100%. \n",
    "What may be happenining is that the model always predicts the price will go up, \n",
    "and it has over long time horizons for BTC. \n",
    "The average time difference between close prices varies across the dataset, with\n",
    "around 25 mins in 2011 and around 1 minute in 2018. \n",
    "\n",
    "'''\n",
    "c = 22\n",
    "h = 300\n",
    "capital = 10000"
   ]
  },
  {
   "cell_type": "code",
   "execution_count": 17,
   "metadata": {
    "colab": {
     "base_uri": "https://localhost:8080/",
     "height": 34
    },
    "colab_type": "code",
    "executionInfo": {
     "elapsed": 95533,
     "status": "ok",
     "timestamp": 1586894963739,
     "user": {
      "displayName": "Sanjit Neelam",
      "photoUrl": "",
      "userId": "11343435696768886338"
     },
     "user_tz": -60
    },
    "id": "JKh55O8DS3KC",
    "outputId": "5d7ec80b-712b-4d9d-a277-0d93ebeb9384"
   },
   "outputs": [
    {
     "name": "stdout",
     "output_type": "stream",
     "text": [
      "Mean number of seconds between reported close prices:  86.86402359085088\n"
     ]
    }
   ],
   "source": [
    "#Mean time difference between close prices\n",
    "print (\"Mean number of seconds between reported close prices: \",\n",
    "       np.mean(df[\"Timestamp\"].diff()[1:]))"
   ]
  },
  {
   "cell_type": "code",
   "execution_count": 18,
   "metadata": {
    "colab": {},
    "colab_type": "code",
    "id": "40XhUFDA6FIo"
   },
   "outputs": [],
   "source": [
    "#Taking [ClosePrice(t+h)-ClosePrice(t)] / ClosePrice(t) for each t\n",
    "#Computed on non-stationarised close price\n",
    "def FutureReturn(p, h):\n",
    "  fr = np.array([])\n",
    "  for i in range(len(p) - h):\n",
    "    fr = np.append(fr, ((p.iloc[i + h] - p.iloc[i]) / p.iloc[i]))\n",
    "  return fr\n",
    "\n",
    "#Multiply by capital \n",
    "future_return = FutureReturn(df[\"Close\"], h) * capital"
   ]
  },
  {
   "cell_type": "code",
   "execution_count": 19,
   "metadata": {
    "colab": {
     "base_uri": "https://localhost:8080/",
     "height": 71
    },
    "colab_type": "code",
    "executionInfo": {
     "elapsed": 99907,
     "status": "ok",
     "timestamp": 1586894968146,
     "user": {
      "displayName": "Sanjit Neelam",
      "photoUrl": "",
      "userId": "11343435696768886338"
     },
     "user_tz": -60
    },
    "id": "3-HG9HOTNiE1",
    "outputId": "c2384972-5c50-4bb8-fce8-c26b869b7574"
   },
   "outputs": [
    {
     "name": "stderr",
     "output_type": "stream",
     "text": [
      "/Users/Sanjit/opt/anaconda3/lib/python3.7/site-packages/ipykernel_launcher.py:3: DeprecationWarning: The default dtype for empty Series will be 'object' instead of 'float64' in a future version. Specify a dtype explicitly to silence this warning.\n",
      "  This is separate from the ipykernel package so we can avoid doing imports until\n"
     ]
    },
    {
     "ename": "KeyboardInterrupt",
     "evalue": "",
     "output_type": "error",
     "traceback": [
      "\u001b[0;31m---------------------------------------------------------------------------\u001b[0m",
      "\u001b[0;31mKeyboardInterrupt\u001b[0m                         Traceback (most recent call last)",
      "\u001b[0;32m<ipython-input-19-1dc4f6206966>\u001b[0m in \u001b[0;36m<module>\u001b[0;34m\u001b[0m\n\u001b[1;32m      8\u001b[0m     \u001b[0mY\u001b[0m \u001b[0;34m=\u001b[0m \u001b[0mY\u001b[0m\u001b[0;34m.\u001b[0m\u001b[0mappend\u001b[0m\u001b[0;34m(\u001b[0m\u001b[0mpd\u001b[0m\u001b[0;34m.\u001b[0m\u001b[0mSeries\u001b[0m\u001b[0;34m(\u001b[0m\u001b[0;34m[\u001b[0m\u001b[0;36m1\u001b[0m\u001b[0;34m]\u001b[0m\u001b[0;34m)\u001b[0m\u001b[0;34m)\u001b[0m\u001b[0;34m\u001b[0m\u001b[0;34m\u001b[0m\u001b[0m\n\u001b[1;32m      9\u001b[0m   \u001b[0;32melif\u001b[0m \u001b[0mr\u001b[0m \u001b[0;34m<\u001b[0m \u001b[0;34m-\u001b[0m\u001b[0mc\u001b[0m\u001b[0;34m:\u001b[0m\u001b[0;34m\u001b[0m\u001b[0;34m\u001b[0m\u001b[0m\n\u001b[0;32m---> 10\u001b[0;31m     \u001b[0mY\u001b[0m \u001b[0;34m=\u001b[0m \u001b[0mY\u001b[0m\u001b[0;34m.\u001b[0m\u001b[0mappend\u001b[0m\u001b[0;34m(\u001b[0m\u001b[0mpd\u001b[0m\u001b[0;34m.\u001b[0m\u001b[0mSeries\u001b[0m\u001b[0;34m(\u001b[0m\u001b[0;34m[\u001b[0m\u001b[0;36m2\u001b[0m\u001b[0;34m]\u001b[0m\u001b[0;34m)\u001b[0m\u001b[0;34m)\u001b[0m\u001b[0;34m\u001b[0m\u001b[0;34m\u001b[0m\u001b[0m\n\u001b[0m\u001b[1;32m     11\u001b[0m \u001b[0;31m#We need the last h values to be NaN so that the series is as long as X\u001b[0m\u001b[0;34m\u001b[0m\u001b[0;34m\u001b[0m\u001b[0;34m\u001b[0m\u001b[0m\n\u001b[1;32m     12\u001b[0m \u001b[0mY\u001b[0m \u001b[0;34m=\u001b[0m \u001b[0mY\u001b[0m\u001b[0;34m.\u001b[0m\u001b[0mappend\u001b[0m\u001b[0;34m(\u001b[0m\u001b[0mpd\u001b[0m\u001b[0;34m.\u001b[0m\u001b[0mSeries\u001b[0m\u001b[0;34m(\u001b[0m\u001b[0;34m[\u001b[0m\u001b[0mnp\u001b[0m\u001b[0;34m.\u001b[0m\u001b[0mnan\u001b[0m\u001b[0;34m]\u001b[0m \u001b[0;34m*\u001b[0m \u001b[0mh\u001b[0m\u001b[0;34m)\u001b[0m\u001b[0;34m)\u001b[0m\u001b[0;34m\u001b[0m\u001b[0;34m\u001b[0m\u001b[0m\n",
      "\u001b[0;32m~/opt/anaconda3/lib/python3.7/site-packages/pandas/core/series.py\u001b[0m in \u001b[0;36mappend\u001b[0;34m(self, to_append, ignore_index, verify_integrity)\u001b[0m\n\u001b[1;32m   2580\u001b[0m             \u001b[0mto_concat\u001b[0m \u001b[0;34m=\u001b[0m \u001b[0;34m[\u001b[0m\u001b[0mself\u001b[0m\u001b[0;34m,\u001b[0m \u001b[0mto_append\u001b[0m\u001b[0;34m]\u001b[0m\u001b[0;34m\u001b[0m\u001b[0;34m\u001b[0m\u001b[0m\n\u001b[1;32m   2581\u001b[0m         return concat(\n\u001b[0;32m-> 2582\u001b[0;31m             \u001b[0mto_concat\u001b[0m\u001b[0;34m,\u001b[0m \u001b[0mignore_index\u001b[0m\u001b[0;34m=\u001b[0m\u001b[0mignore_index\u001b[0m\u001b[0;34m,\u001b[0m \u001b[0mverify_integrity\u001b[0m\u001b[0;34m=\u001b[0m\u001b[0mverify_integrity\u001b[0m\u001b[0;34m\u001b[0m\u001b[0;34m\u001b[0m\u001b[0m\n\u001b[0m\u001b[1;32m   2583\u001b[0m         )\n\u001b[1;32m   2584\u001b[0m \u001b[0;34m\u001b[0m\u001b[0m\n",
      "\u001b[0;32m~/opt/anaconda3/lib/python3.7/site-packages/pandas/core/reshape/concat.py\u001b[0m in \u001b[0;36mconcat\u001b[0;34m(objs, axis, join, ignore_index, keys, levels, names, verify_integrity, sort, copy)\u001b[0m\n\u001b[1;32m    279\u001b[0m         \u001b[0mverify_integrity\u001b[0m\u001b[0;34m=\u001b[0m\u001b[0mverify_integrity\u001b[0m\u001b[0;34m,\u001b[0m\u001b[0;34m\u001b[0m\u001b[0;34m\u001b[0m\u001b[0m\n\u001b[1;32m    280\u001b[0m         \u001b[0mcopy\u001b[0m\u001b[0;34m=\u001b[0m\u001b[0mcopy\u001b[0m\u001b[0;34m,\u001b[0m\u001b[0;34m\u001b[0m\u001b[0;34m\u001b[0m\u001b[0m\n\u001b[0;32m--> 281\u001b[0;31m         \u001b[0msort\u001b[0m\u001b[0;34m=\u001b[0m\u001b[0msort\u001b[0m\u001b[0;34m,\u001b[0m\u001b[0;34m\u001b[0m\u001b[0;34m\u001b[0m\u001b[0m\n\u001b[0m\u001b[1;32m    282\u001b[0m     )\n\u001b[1;32m    283\u001b[0m \u001b[0;34m\u001b[0m\u001b[0m\n",
      "\u001b[0;32m~/opt/anaconda3/lib/python3.7/site-packages/pandas/core/reshape/concat.py\u001b[0m in \u001b[0;36m__init__\u001b[0;34m(self, objs, axis, join, keys, levels, names, ignore_index, verify_integrity, copy, sort)\u001b[0m\n\u001b[1;32m    450\u001b[0m         \u001b[0mself\u001b[0m\u001b[0;34m.\u001b[0m\u001b[0mcopy\u001b[0m \u001b[0;34m=\u001b[0m \u001b[0mcopy\u001b[0m\u001b[0;34m\u001b[0m\u001b[0;34m\u001b[0m\u001b[0m\n\u001b[1;32m    451\u001b[0m \u001b[0;34m\u001b[0m\u001b[0m\n\u001b[0;32m--> 452\u001b[0;31m         \u001b[0mself\u001b[0m\u001b[0;34m.\u001b[0m\u001b[0mnew_axes\u001b[0m \u001b[0;34m=\u001b[0m \u001b[0mself\u001b[0m\u001b[0;34m.\u001b[0m\u001b[0m_get_new_axes\u001b[0m\u001b[0;34m(\u001b[0m\u001b[0;34m)\u001b[0m\u001b[0;34m\u001b[0m\u001b[0;34m\u001b[0m\u001b[0m\n\u001b[0m\u001b[1;32m    453\u001b[0m \u001b[0;34m\u001b[0m\u001b[0m\n\u001b[1;32m    454\u001b[0m     \u001b[0;32mdef\u001b[0m \u001b[0mget_result\u001b[0m\u001b[0;34m(\u001b[0m\u001b[0mself\u001b[0m\u001b[0;34m)\u001b[0m\u001b[0;34m:\u001b[0m\u001b[0;34m\u001b[0m\u001b[0;34m\u001b[0m\u001b[0m\n",
      "\u001b[0;32m~/opt/anaconda3/lib/python3.7/site-packages/pandas/core/reshape/concat.py\u001b[0m in \u001b[0;36m_get_new_axes\u001b[0;34m(self)\u001b[0m\n\u001b[1;32m    515\u001b[0m         return [\n\u001b[1;32m    516\u001b[0m             \u001b[0mself\u001b[0m\u001b[0;34m.\u001b[0m\u001b[0m_get_concat_axis\u001b[0m\u001b[0;34m(\u001b[0m\u001b[0;34m)\u001b[0m \u001b[0;32mif\u001b[0m \u001b[0mi\u001b[0m \u001b[0;34m==\u001b[0m \u001b[0mself\u001b[0m\u001b[0;34m.\u001b[0m\u001b[0maxis\u001b[0m \u001b[0;32melse\u001b[0m \u001b[0mself\u001b[0m\u001b[0;34m.\u001b[0m\u001b[0m_get_comb_axis\u001b[0m\u001b[0;34m(\u001b[0m\u001b[0mi\u001b[0m\u001b[0;34m)\u001b[0m\u001b[0;34m\u001b[0m\u001b[0;34m\u001b[0m\u001b[0m\n\u001b[0;32m--> 517\u001b[0;31m             \u001b[0;32mfor\u001b[0m \u001b[0mi\u001b[0m \u001b[0;32min\u001b[0m \u001b[0mrange\u001b[0m\u001b[0;34m(\u001b[0m\u001b[0mndim\u001b[0m\u001b[0;34m)\u001b[0m\u001b[0;34m\u001b[0m\u001b[0;34m\u001b[0m\u001b[0m\n\u001b[0m\u001b[1;32m    518\u001b[0m         ]\n\u001b[1;32m    519\u001b[0m \u001b[0;34m\u001b[0m\u001b[0m\n",
      "\u001b[0;32m~/opt/anaconda3/lib/python3.7/site-packages/pandas/core/reshape/concat.py\u001b[0m in \u001b[0;36m<listcomp>\u001b[0;34m(.0)\u001b[0m\n\u001b[1;32m    515\u001b[0m         return [\n\u001b[1;32m    516\u001b[0m             \u001b[0mself\u001b[0m\u001b[0;34m.\u001b[0m\u001b[0m_get_concat_axis\u001b[0m\u001b[0;34m(\u001b[0m\u001b[0;34m)\u001b[0m \u001b[0;32mif\u001b[0m \u001b[0mi\u001b[0m \u001b[0;34m==\u001b[0m \u001b[0mself\u001b[0m\u001b[0;34m.\u001b[0m\u001b[0maxis\u001b[0m \u001b[0;32melse\u001b[0m \u001b[0mself\u001b[0m\u001b[0;34m.\u001b[0m\u001b[0m_get_comb_axis\u001b[0m\u001b[0;34m(\u001b[0m\u001b[0mi\u001b[0m\u001b[0;34m)\u001b[0m\u001b[0;34m\u001b[0m\u001b[0;34m\u001b[0m\u001b[0m\n\u001b[0;32m--> 517\u001b[0;31m             \u001b[0;32mfor\u001b[0m \u001b[0mi\u001b[0m \u001b[0;32min\u001b[0m \u001b[0mrange\u001b[0m\u001b[0;34m(\u001b[0m\u001b[0mndim\u001b[0m\u001b[0;34m)\u001b[0m\u001b[0;34m\u001b[0m\u001b[0;34m\u001b[0m\u001b[0m\n\u001b[0m\u001b[1;32m    518\u001b[0m         ]\n\u001b[1;32m    519\u001b[0m \u001b[0;34m\u001b[0m\u001b[0m\n",
      "\u001b[0;32m~/opt/anaconda3/lib/python3.7/site-packages/pandas/core/reshape/concat.py\u001b[0m in \u001b[0;36m_get_concat_axis\u001b[0;34m(self)\u001b[0m\n\u001b[1;32m    564\u001b[0m \u001b[0;34m\u001b[0m\u001b[0m\n\u001b[1;32m    565\u001b[0m         \u001b[0;32mif\u001b[0m \u001b[0mself\u001b[0m\u001b[0;34m.\u001b[0m\u001b[0mkeys\u001b[0m \u001b[0;32mis\u001b[0m \u001b[0;32mNone\u001b[0m\u001b[0;34m:\u001b[0m\u001b[0;34m\u001b[0m\u001b[0;34m\u001b[0m\u001b[0m\n\u001b[0;32m--> 566\u001b[0;31m             \u001b[0mconcat_axis\u001b[0m \u001b[0;34m=\u001b[0m \u001b[0m_concat_indexes\u001b[0m\u001b[0;34m(\u001b[0m\u001b[0mindexes\u001b[0m\u001b[0;34m)\u001b[0m\u001b[0;34m\u001b[0m\u001b[0;34m\u001b[0m\u001b[0m\n\u001b[0m\u001b[1;32m    567\u001b[0m         \u001b[0;32melse\u001b[0m\u001b[0;34m:\u001b[0m\u001b[0;34m\u001b[0m\u001b[0;34m\u001b[0m\u001b[0m\n\u001b[1;32m    568\u001b[0m             concat_axis = _make_concat_multiindex(\n",
      "\u001b[0;32m~/opt/anaconda3/lib/python3.7/site-packages/pandas/core/reshape/concat.py\u001b[0m in \u001b[0;36m_concat_indexes\u001b[0;34m(indexes)\u001b[0m\n\u001b[1;32m    585\u001b[0m \u001b[0;34m\u001b[0m\u001b[0m\n\u001b[1;32m    586\u001b[0m \u001b[0;32mdef\u001b[0m \u001b[0m_concat_indexes\u001b[0m\u001b[0;34m(\u001b[0m\u001b[0mindexes\u001b[0m\u001b[0;34m)\u001b[0m \u001b[0;34m->\u001b[0m \u001b[0mIndex\u001b[0m\u001b[0;34m:\u001b[0m\u001b[0;34m\u001b[0m\u001b[0;34m\u001b[0m\u001b[0m\n\u001b[0;32m--> 587\u001b[0;31m     \u001b[0;32mreturn\u001b[0m \u001b[0mindexes\u001b[0m\u001b[0;34m[\u001b[0m\u001b[0;36m0\u001b[0m\u001b[0;34m]\u001b[0m\u001b[0;34m.\u001b[0m\u001b[0mappend\u001b[0m\u001b[0;34m(\u001b[0m\u001b[0mindexes\u001b[0m\u001b[0;34m[\u001b[0m\u001b[0;36m1\u001b[0m\u001b[0;34m:\u001b[0m\u001b[0;34m]\u001b[0m\u001b[0;34m)\u001b[0m\u001b[0;34m\u001b[0m\u001b[0;34m\u001b[0m\u001b[0m\n\u001b[0m\u001b[1;32m    588\u001b[0m \u001b[0;34m\u001b[0m\u001b[0m\n\u001b[1;32m    589\u001b[0m \u001b[0;34m\u001b[0m\u001b[0m\n",
      "\u001b[0;32m~/opt/anaconda3/lib/python3.7/site-packages/pandas/core/indexes/base.py\u001b[0m in \u001b[0;36mappend\u001b[0;34m(self, other)\u001b[0m\n\u001b[1;32m   3987\u001b[0m         \u001b[0mname\u001b[0m \u001b[0;34m=\u001b[0m \u001b[0;32mNone\u001b[0m \u001b[0;32mif\u001b[0m \u001b[0mlen\u001b[0m\u001b[0;34m(\u001b[0m\u001b[0mnames\u001b[0m\u001b[0;34m)\u001b[0m \u001b[0;34m>\u001b[0m \u001b[0;36m1\u001b[0m \u001b[0;32melse\u001b[0m \u001b[0mself\u001b[0m\u001b[0;34m.\u001b[0m\u001b[0mname\u001b[0m\u001b[0;34m\u001b[0m\u001b[0;34m\u001b[0m\u001b[0m\n\u001b[1;32m   3988\u001b[0m \u001b[0;34m\u001b[0m\u001b[0m\n\u001b[0;32m-> 3989\u001b[0;31m         \u001b[0;32mreturn\u001b[0m \u001b[0mself\u001b[0m\u001b[0;34m.\u001b[0m\u001b[0m_concat\u001b[0m\u001b[0;34m(\u001b[0m\u001b[0mto_concat\u001b[0m\u001b[0;34m,\u001b[0m \u001b[0mname\u001b[0m\u001b[0;34m)\u001b[0m\u001b[0;34m\u001b[0m\u001b[0;34m\u001b[0m\u001b[0m\n\u001b[0m\u001b[1;32m   3990\u001b[0m \u001b[0;34m\u001b[0m\u001b[0m\n\u001b[1;32m   3991\u001b[0m     \u001b[0;32mdef\u001b[0m \u001b[0m_concat\u001b[0m\u001b[0;34m(\u001b[0m\u001b[0mself\u001b[0m\u001b[0;34m,\u001b[0m \u001b[0mto_concat\u001b[0m\u001b[0;34m,\u001b[0m \u001b[0mname\u001b[0m\u001b[0;34m)\u001b[0m\u001b[0;34m:\u001b[0m\u001b[0;34m\u001b[0m\u001b[0;34m\u001b[0m\u001b[0m\n",
      "\u001b[0;32m~/opt/anaconda3/lib/python3.7/site-packages/pandas/core/indexes/base.py\u001b[0m in \u001b[0;36m_concat\u001b[0;34m(self, to_concat, name)\u001b[0m\n\u001b[1;32m   3995\u001b[0m         \u001b[0;32mif\u001b[0m \u001b[0mlen\u001b[0m\u001b[0;34m(\u001b[0m\u001b[0mtyps\u001b[0m\u001b[0;34m)\u001b[0m \u001b[0;34m==\u001b[0m \u001b[0;36m1\u001b[0m\u001b[0;34m:\u001b[0m\u001b[0;34m\u001b[0m\u001b[0;34m\u001b[0m\u001b[0m\n\u001b[1;32m   3996\u001b[0m             \u001b[0;32mreturn\u001b[0m \u001b[0mself\u001b[0m\u001b[0;34m.\u001b[0m\u001b[0m_concat_same_dtype\u001b[0m\u001b[0;34m(\u001b[0m\u001b[0mto_concat\u001b[0m\u001b[0;34m,\u001b[0m \u001b[0mname\u001b[0m\u001b[0;34m=\u001b[0m\u001b[0mname\u001b[0m\u001b[0;34m)\u001b[0m\u001b[0;34m\u001b[0m\u001b[0;34m\u001b[0m\u001b[0m\n\u001b[0;32m-> 3997\u001b[0;31m         \u001b[0;32mreturn\u001b[0m \u001b[0mIndex\u001b[0m\u001b[0;34m.\u001b[0m\u001b[0m_concat_same_dtype\u001b[0m\u001b[0;34m(\u001b[0m\u001b[0mself\u001b[0m\u001b[0;34m,\u001b[0m \u001b[0mto_concat\u001b[0m\u001b[0;34m,\u001b[0m \u001b[0mname\u001b[0m\u001b[0;34m=\u001b[0m\u001b[0mname\u001b[0m\u001b[0;34m)\u001b[0m\u001b[0;34m\u001b[0m\u001b[0;34m\u001b[0m\u001b[0m\n\u001b[0m\u001b[1;32m   3998\u001b[0m \u001b[0;34m\u001b[0m\u001b[0m\n\u001b[1;32m   3999\u001b[0m     \u001b[0;32mdef\u001b[0m \u001b[0m_concat_same_dtype\u001b[0m\u001b[0;34m(\u001b[0m\u001b[0mself\u001b[0m\u001b[0;34m,\u001b[0m \u001b[0mto_concat\u001b[0m\u001b[0;34m,\u001b[0m \u001b[0mname\u001b[0m\u001b[0;34m)\u001b[0m\u001b[0;34m:\u001b[0m\u001b[0;34m\u001b[0m\u001b[0;34m\u001b[0m\u001b[0m\n",
      "\u001b[0;32m~/opt/anaconda3/lib/python3.7/site-packages/pandas/core/indexes/base.py\u001b[0m in \u001b[0;36m_concat_same_dtype\u001b[0;34m(self, to_concat, name)\u001b[0m\n\u001b[1;32m   4019\u001b[0m         \u001b[0mto_concat\u001b[0m \u001b[0;34m=\u001b[0m \u001b[0;34m[\u001b[0m\u001b[0mx\u001b[0m\u001b[0;34m.\u001b[0m\u001b[0m_values\u001b[0m \u001b[0;32mif\u001b[0m \u001b[0misinstance\u001b[0m\u001b[0;34m(\u001b[0m\u001b[0mx\u001b[0m\u001b[0;34m,\u001b[0m \u001b[0mIndex\u001b[0m\u001b[0;34m)\u001b[0m \u001b[0;32melse\u001b[0m \u001b[0mx\u001b[0m \u001b[0;32mfor\u001b[0m \u001b[0mx\u001b[0m \u001b[0;32min\u001b[0m \u001b[0mto_concat\u001b[0m\u001b[0;34m]\u001b[0m\u001b[0;34m\u001b[0m\u001b[0;34m\u001b[0m\u001b[0m\n\u001b[1;32m   4020\u001b[0m \u001b[0;34m\u001b[0m\u001b[0m\n\u001b[0;32m-> 4021\u001b[0;31m         \u001b[0;32mreturn\u001b[0m \u001b[0mself\u001b[0m\u001b[0;34m.\u001b[0m\u001b[0m_shallow_copy_with_infer\u001b[0m\u001b[0;34m(\u001b[0m\u001b[0mnp\u001b[0m\u001b[0;34m.\u001b[0m\u001b[0mconcatenate\u001b[0m\u001b[0;34m(\u001b[0m\u001b[0mto_concat\u001b[0m\u001b[0;34m)\u001b[0m\u001b[0;34m,\u001b[0m \u001b[0;34m**\u001b[0m\u001b[0mattribs\u001b[0m\u001b[0;34m)\u001b[0m\u001b[0;34m\u001b[0m\u001b[0;34m\u001b[0m\u001b[0m\n\u001b[0m\u001b[1;32m   4022\u001b[0m \u001b[0;34m\u001b[0m\u001b[0m\n\u001b[1;32m   4023\u001b[0m     \u001b[0;32mdef\u001b[0m \u001b[0mputmask\u001b[0m\u001b[0;34m(\u001b[0m\u001b[0mself\u001b[0m\u001b[0;34m,\u001b[0m \u001b[0mmask\u001b[0m\u001b[0;34m,\u001b[0m \u001b[0mvalue\u001b[0m\u001b[0;34m)\u001b[0m\u001b[0;34m:\u001b[0m\u001b[0;34m\u001b[0m\u001b[0;34m\u001b[0m\u001b[0m\n",
      "\u001b[0;32m<__array_function__ internals>\u001b[0m in \u001b[0;36mconcatenate\u001b[0;34m(*args, **kwargs)\u001b[0m\n",
      "\u001b[0;31mKeyboardInterrupt\u001b[0m: "
     ]
    }
   ],
   "source": [
    "#Creating target data, Y \n",
    "#Code \"UP\" as 0, \"FLAT\" as 1, \"DOWN\" as 2 (model expects non-negative integers)\n",
    "Y = pd.Series([])\n",
    "for r in future_return:\n",
    "  if r > c:\n",
    "    Y = Y.append(pd.Series([0]))\n",
    "  elif -c < r < c:\n",
    "    Y = Y.append(pd.Series([1]))\n",
    "  elif r < -c:\n",
    "    Y = Y.append(pd.Series([2]))\n",
    "#We need the last h values to be NaN so that the series is as long as X\n",
    "Y = Y.append(pd.Series([np.nan] * h))"
   ]
  },
  {
   "cell_type": "code",
   "execution_count": 0,
   "metadata": {
    "colab": {},
    "colab_type": "code",
    "id": "6gUxtatUvUUR"
   },
   "outputs": [],
   "source": [
    "#Merging X and Y into D\n",
    "D = pd.DataFrame({})\n",
    "D = pd.concat([D, X], axis = 1)\n",
    "#The below step is needed in order for the step below it to work\n",
    "Y = Y.reset_index(drop = True)\n",
    "D = pd.concat([D, Y], axis = 1)"
   ]
  },
  {
   "cell_type": "code",
   "execution_count": 29,
   "metadata": {
    "colab": {
     "base_uri": "https://localhost:8080/",
     "height": 54
    },
    "colab_type": "code",
    "executionInfo": {
     "elapsed": 99893,
     "status": "ok",
     "timestamp": 1586894968148,
     "user": {
      "displayName": "Sanjit Neelam",
      "photoUrl": "",
      "userId": "11343435696768886338"
     },
     "user_tz": -60
    },
    "id": "3Xqk7f0LB0gi",
    "outputId": "c6399ca9-f194-481b-f77d-6e9d51320a69"
   },
   "outputs": [
    {
     "data": {
      "text/plain": [
       "'\\n#Counting inf/NaN values\\ncount = 0\\nfor i in D.columns:\\n  for j in np.isnan(D[i]):\\n    if j == True:\\n      count += 1\\nprint(count)\\n'"
      ]
     },
     "execution_count": 29,
     "metadata": {
      "tags": []
     },
     "output_type": "execute_result"
    }
   ],
   "source": [
    "'''\n",
    "#Counting inf/NaN values\n",
    "count = 0\n",
    "for i in D.columns:\n",
    "  for j in np.isnan(D[i]):\n",
    "    if j == True:\n",
    "      count += 1\n",
    "print(count)\n",
    "'''"
   ]
  },
  {
   "cell_type": "code",
   "execution_count": 0,
   "metadata": {
    "colab": {},
    "colab_type": "code",
    "id": "ur8ygqQLvUUX"
   },
   "outputs": [],
   "source": [
    "#Dealing with NaN/inf values\n",
    "#Drop last h rows\n",
    "D = D.drop(D.index[range(len(D.index) - h, len(D.index))])\n",
    "#Convert inf values to NaN\n",
    "#Drop rows and columns which only contain NaNs\n",
    "D = D.replace([np.inf, -np.inf], np.nan)\n",
    "D = D.dropna(axis = 0, how = \"all\")\n",
    "D = D.dropna(axis = 1, how = \"all\")\n",
    "#Drop columns which mostly contain NaNs\n",
    "D = D.dropna(axis = 1, thresh = 0.50 * len(D[\"Close\"]))\n",
    "\n",
    "#Replace NaNs with 0\n",
    "D = D.replace([np.nan], 0)\n",
    "#Without the above step, all predicted probabilities were NaNs"
   ]
  },
  {
   "cell_type": "code",
   "execution_count": 0,
   "metadata": {
    "colab": {},
    "colab_type": "code",
    "id": "vKVIL1qyJ7jn"
   },
   "outputs": [],
   "source": [
    "#Splitting into training and testing sets, i.e. subsetting D\n",
    "from sklearn.model_selection import train_test_split\n",
    "train_split, test_split = train_test_split(D, test_size = 0.30)\n",
    "#test_size is the proportion of the data to be used for testing\n",
    "#test_size = 0.3 gave much lower crossentropy scores than 0.2 or 0.4, with\n",
    "#similar loss and accuracy scores"
   ]
  },
  {
   "cell_type": "code",
   "execution_count": 32,
   "metadata": {
    "colab": {
     "base_uri": "https://localhost:8080/",
     "height": 54
    },
    "colab_type": "code",
    "executionInfo": {
     "elapsed": 99875,
     "status": "ok",
     "timestamp": 1586894968149,
     "user": {
      "displayName": "Sanjit Neelam",
      "photoUrl": "",
      "userId": "11343435696768886338"
     },
     "user_tz": -60
    },
    "id": "KU5idawRDQMn",
    "outputId": "be10b66f-7fe9-46a1-fafe-38492240d8dc"
   },
   "outputs": [
    {
     "data": {
      "text/plain": [
       "'\\nHelpful sources for building a model and generating predictions:\\nhttps://www.tensorflow.org/tutorials/keras/classification\\nDocumentation for functions used in the above source\\n'"
      ]
     },
     "execution_count": 32,
     "metadata": {
      "tags": []
     },
     "output_type": "execute_result"
    }
   ],
   "source": [
    "'''\n",
    "Helpful sources for building a model and generating predictions:\n",
    "https://www.tensorflow.org/tutorials/keras/classification\n",
    "Documentation for functions used in the above source\n",
    "'''"
   ]
  },
  {
   "cell_type": "code",
   "execution_count": 0,
   "metadata": {
    "colab": {},
    "colab_type": "code",
    "id": "F0P-e8gnvUUa"
   },
   "outputs": [],
   "source": [
    "import tensorflow as tf\n",
    "#tensorflow expects float32 numbers rather than float64\n",
    "train_split = train_split.astype('float32')\n",
    "test_split = test_split.astype('float32')\n",
    "\n",
    "#Demerging X and Y from subsets of D\n",
    "#The column name of Y in D is 0\n",
    "train_target = train_split.pop(0)\n",
    "test_target = test_split.pop(0)\n",
    "#train_split is from X, train_target is from Y, both used to train\n",
    "#test_split is from X, test_target is from Y, both used to test"
   ]
  },
  {
   "cell_type": "code",
   "execution_count": 0,
   "metadata": {
    "colab": {},
    "colab_type": "code",
    "id": "2sfSoxELWCoe"
   },
   "outputs": [],
   "source": [
    "#Input layer size: train_split.iloc[0].shape (around 70)\n",
    "#Middle layer sizes: 37, 11\n",
    "#Output layer size: 3\n",
    "model = tf.keras.Sequential([tf.keras.layers.Flatten(input_shape = train_split.iloc[0].shape),\n",
    "                             tf.keras.layers.Dense(37, activation='relu'),\n",
    "                             tf.keras.layers.Dense(11, activation='relu'),\n",
    "                             tf.keras.layers.Dense(3),\n",
    "                             ])\n",
    "\n",
    "model.compile(optimizer='adam',\n",
    "              loss=tf.keras.losses.SparseCategoricalCrossentropy(from_logits=True),\n",
    "              metrics=['accuracy', 'crossentropy'])"
   ]
  },
  {
   "cell_type": "code",
   "execution_count": 35,
   "metadata": {
    "colab": {
     "base_uri": "https://localhost:8080/",
     "height": 272
    },
    "colab_type": "code",
    "executionInfo": {
     "elapsed": 104317,
     "status": "ok",
     "timestamp": 1586894972611,
     "user": {
      "displayName": "Sanjit Neelam",
      "photoUrl": "",
      "userId": "11343435696768886338"
     },
     "user_tz": -60
    },
    "id": "ngsczSsxWj1_",
    "outputId": "29cba5f8-21ea-4953-ab2a-ff60f607f7e1"
   },
   "outputs": [
    {
     "name": "stdout",
     "output_type": "stream",
     "text": [
      "Epoch 1/7\n",
      "213/213 [==============================] - 0s 1ms/step - loss: 0.8365 - accuracy: 0.6424 - crossentropy: 3.1991\n",
      "Epoch 2/7\n",
      "213/213 [==============================] - 0s 1ms/step - loss: 0.6806 - accuracy: 0.7121 - crossentropy: 2.5674\n",
      "Epoch 3/7\n",
      "213/213 [==============================] - 0s 1ms/step - loss: 0.6687 - accuracy: 0.7197 - crossentropy: 2.7461\n",
      "Epoch 4/7\n",
      "213/213 [==============================] - 0s 1ms/step - loss: 0.6630 - accuracy: 0.7168 - crossentropy: 2.7648\n",
      "Epoch 5/7\n",
      "213/213 [==============================] - 0s 1ms/step - loss: 0.6535 - accuracy: 0.7234 - crossentropy: 2.8918\n",
      "Epoch 6/7\n",
      "213/213 [==============================] - 0s 1ms/step - loss: 0.6503 - accuracy: 0.7274 - crossentropy: 2.9538\n",
      "Epoch 7/7\n",
      "213/213 [==============================] - 0s 1ms/step - loss: 0.6422 - accuracy: 0.7295 - crossentropy: 2.8898\n"
     ]
    },
    {
     "data": {
      "text/plain": [
       "<tensorflow.python.keras.callbacks.History at 0x7fef3ebb4278>"
      ]
     },
     "execution_count": 35,
     "metadata": {
      "tags": []
     },
     "output_type": "execute_result"
    }
   ],
   "source": [
    "model.fit(train_split, train_target, epochs = 7)"
   ]
  },
  {
   "cell_type": "code",
   "execution_count": 0,
   "metadata": {
    "colab": {},
    "colab_type": "code",
    "id": "ctxYm9SzZCzV"
   },
   "outputs": [],
   "source": [
    "#Adding softmax layer \n",
    "probability_model = tf.keras.Sequential([model, \n",
    "                                        tf.keras.layers.Softmax()])\n",
    "#Generating prediction vectors with probabilities\n",
    "predictions = probability_model.predict(test_split)"
   ]
  },
  {
   "cell_type": "code",
   "execution_count": 0,
   "metadata": {
    "colab": {},
    "colab_type": "code",
    "id": "k3iFEf66mxfC"
   },
   "outputs": [],
   "source": [
    "#Creating predicted vectors of state (in the format in d. 1)) from predictions\n",
    "#Define the array in this shape to avoid errors when using np.append  \n",
    "classified_preds = np.array([[0, 0, 0]])\n",
    "for i in range(len(predictions)):\n",
    "  for j in range(3):\n",
    "    if max(predictions[i]) == predictions[i][j]:\n",
    "      dummy = np.array([0, 0, 0])\n",
    "      dummy[j] = 1\n",
    "      classified_preds = np.append(classified_preds, np.array([dummy]), axis = 0)\n",
    "#Remove first element, which was used to set shape\n",
    "classified_preds = np.delete(classified_preds, 0, axis = 0)\n",
    "\n",
    "#Creating actual vectors of state (in the format in d. 1)) from test_target\n",
    "#Define the array in this shape to avoid errors when using np.append\n",
    "actual = np.array([[0, 0, 0]])\n",
    "for i in range(len(test_target)):\n",
    "  if test_target.iloc[i] == 0:\n",
    "    actual = np.append(actual, np.array([[1, 0, 0]]), axis = 0)\n",
    "  elif test_target.iloc[i] == 1:\n",
    "    actual = np.append(actual, np.array([[0, 1, 0]]), axis = 0)\n",
    "  elif test_target.iloc[i] == 2:\n",
    "    actual = np.append(actual, np.array([[0, 0, 1]]), axis = 0)\n",
    "#Remove first element, which was used to set shape\n",
    "actual = np.delete(actual, 0, axis = 0)"
   ]
  },
  {
   "cell_type": "code",
   "execution_count": 38,
   "metadata": {
    "colab": {
     "base_uri": "https://localhost:8080/",
     "height": 34
    },
    "colab_type": "code",
    "executionInfo": {
     "elapsed": 104850,
     "status": "ok",
     "timestamp": 1586894973164,
     "user": {
      "displayName": "Sanjit Neelam",
      "photoUrl": "",
      "userId": "11343435696768886338"
     },
     "user_tz": -60
    },
    "id": "tFc7B_0c3EbG",
    "outputId": "d01b722e-7577-4bb7-cefb-03241a8a8895"
   },
   "outputs": [
    {
     "name": "stdout",
     "output_type": "stream",
     "text": [
      "Model accuracy, as defined in the guide:  0.7189003436426117\n"
     ]
    }
   ],
   "source": [
    "#Statistic is the sum of the values of the vector returned by computing the \n",
    "#statistic defined in d. 2); it is the number of incorrect classifications\n",
    "statistic = sum(0.5 * sum(((classified_preds - actual) ** 2)))\n",
    "accuracy = (len(test_target) - statistic) / (len(test_target))\n",
    "print (\"Model accuracy, as defined in the guide: \", accuracy)"
   ]
  },
  {
   "cell_type": "code",
   "execution_count": 0,
   "metadata": {
    "colab": {},
    "colab_type": "code",
    "id": "YXuUidG3Qmuy"
   },
   "outputs": [],
   "source": [
    "p = 0.7\n",
    "\n",
    "close = df[\"Close\"][:(len(df[\"Close\"]) - h)]\n",
    "\n",
    "eval_target = D.pop(0)\n",
    "eval_predictions = probability_model.predict(D)\n",
    "\n",
    "signals = []\n",
    "for i in range(len(close)): \n",
    "  if eval_predictions[i][0] > p:\n",
    "    signals.append(\"BUY\")\n",
    "  elif eval_predictions[i][2] > p:\n",
    "    signals.append(\"SELL\")\n",
    "  else:\n",
    "    signals.append(\"HOLD\")"
   ]
  },
  {
   "cell_type": "code",
   "execution_count": 0,
   "metadata": {
    "colab": {},
    "colab_type": "code",
    "id": "HkPewmCCyDdT"
   },
   "outputs": [],
   "source": [
    "positions = pd.DataFrame({\"Close\": close,\n",
    "                          \"Signal\": signals,\n",
    "                          \"P/L\": [[]]* len(close)})\n",
    "positions = positions.reset_index(drop = True)"
   ]
  },
  {
   "cell_type": "code",
   "execution_count": 41,
   "metadata": {
    "colab": {
     "base_uri": "https://localhost:8080/",
     "height": 122
    },
    "colab_type": "code",
    "executionInfo": {
     "elapsed": 105252,
     "status": "ok",
     "timestamp": 1586894973586,
     "user": {
      "displayName": "Sanjit Neelam",
      "photoUrl": "",
      "userId": "11343435696768886338"
     },
     "user_tz": -60
    },
    "id": "t45cno6ti673",
    "outputId": "5d858159-b17f-42f7-e519-db33aa6c8407"
   },
   "outputs": [
    {
     "name": "stderr",
     "output_type": "stream",
     "text": [
      "/usr/local/lib/python3.6/dist-packages/pandas/core/indexing.py:671: SettingWithCopyWarning: \n",
      "A value is trying to be set on a copy of a slice from a DataFrame\n",
      "\n",
      "See the caveats in the documentation: https://pandas.pydata.org/pandas-docs/stable/user_guide/indexing.html#returning-a-view-versus-a-copy\n",
      "  self._setitem_with_indexer(indexer, value)\n"
     ]
    }
   ],
   "source": [
    "#Have already set transaction costs at c = 22 above\n",
    "running_index = 0\n",
    "long_quantity = 0\n",
    "short_quantity = 0\n",
    "previous_price = 0\n",
    "#Index of previous execution price\n",
    "previous_price_index = 0\n",
    "#exposure is 'capital' as described in the guide\n",
    "exposure = 10000\n",
    "#Series of profit/loss for each executed trade\n",
    "pl = []\n",
    "\n",
    "while running_index <= (len(signals) - 1):\n",
    "  if (signals[running_index] == \"BUY\") and (long_quantity == 0):\n",
    "    #Close short position\n",
    "    pl.append(short_quantity * (previous_price - close.iloc[running_index]) - c)\n",
    "\n",
    "    positions[\"P/L\"].iloc[previous_price_index] = (short_quantity * (previous_price - close.iloc[running_index]) - c)\n",
    "\n",
    "    short_quantity = 0\n",
    "    #Enter long position\n",
    "    long_quantity = exposure / close.iloc[running_index]\n",
    "    previous_price = close.iloc[running_index]\n",
    "\n",
    "    previous_price_index = running_index\n",
    "\n",
    "    running_index += 1\n",
    "  elif (signals[running_index] == \"SELL\") and (short_quantity == 0):\n",
    "    #Close long position\n",
    "    pl.append(long_quantity * (close.iloc[running_index] - previous_price) - c)\n",
    "\n",
    "    positions[\"P/L\"].iloc[previous_price_index] = (long_quantity * (close.iloc[running_index] - previous_price) - c)\n",
    "\n",
    "    long_quantity = 0\n",
    "    #Enter short position\n",
    "    short_quantity = exposure / close.iloc[running_index]\n",
    "    previous_price = close.iloc[running_index]\n",
    "\n",
    "    previous_price_index = running_index\n",
    "\n",
    "    running_index += 1\n",
    "  running_index += 1\n",
    "  continue\n",
    "\n",
    "#Remove first value of pl, which is always -c  \n",
    "pl.pop(0)\n",
    "\n",
    "running_capital = np.cumsum(pl) + 10000"
   ]
  },
  {
   "cell_type": "code",
   "execution_count": 42,
   "metadata": {
    "colab": {
     "base_uri": "https://localhost:8080/",
     "height": 312
    },
    "colab_type": "code",
    "executionInfo": {
     "elapsed": 105593,
     "status": "ok",
     "timestamp": 1586894973942,
     "user": {
      "displayName": "Sanjit Neelam",
      "photoUrl": "",
      "userId": "11343435696768886338"
     },
     "user_tz": -60
    },
    "id": "K5T9DY3px0o1",
    "outputId": "36aea1e2-73f4-432b-8b6e-8553904ef3a4"
   },
   "outputs": [
    {
     "data": {
      "text/plain": [
       "<function matplotlib.pyplot.show>"
      ]
     },
     "execution_count": 42,
     "metadata": {
      "tags": []
     },
     "output_type": "execute_result"
    },
    {
     "data": {
      "image/png": "[encoded data removed]",
      "text/plain": [
       "<Figure size 432x288 with 1 Axes>"
      ]
     },
     "metadata": {
      "needs_background": "light",
      "tags": []
     },
     "output_type": "display_data"
    }
   ],
   "source": [
    "#A time series of capital, not daily\n",
    "import matplotlib.pyplot as plt\n",
    "plt.plot(running_capital)\n",
    "plt.xlabel(\"Trades\")\n",
    "plt.ylabel(\"USD\")\n",
    "plt.title(\"Capital\")\n",
    "plt.show"
   ]
  },
  {
   "cell_type": "code",
   "execution_count": 0,
   "metadata": {
    "colab": {},
    "colab_type": "code",
    "id": "opVZq6ZuSdU8"
   },
   "outputs": [],
   "source": []
  },
  {
   "cell_type": "code",
   "execution_count": 0,
   "metadata": {
    "colab": {},
    "colab_type": "code",
    "id": "T5UbSvx6SdU-"
   },
   "outputs": [],
   "source": []
  }
 ],
 "metadata": {
  "colab": {
   "collapsed_sections": [],
   "name": "ML@LSEChallenge.ipynb",
   "provenance": []
  },
  "kernelspec": {
   "display_name": "Python 3",
   "language": "python",
   "name": "python3"
  },
  "language_info": {
   "codemirror_mode": {
    "name": "ipython",
    "version": 3
   },
   "file_extension": ".py",
   "mimetype": "text/x-python",
   "name": "python",
   "nbconvert_exporter": "python",
   "pygments_lexer": "ipython3",
   "version": "3.7.6"
  }
 },
 "nbformat": 4,
 "nbformat_minor": 1
}
